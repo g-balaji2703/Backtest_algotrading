{
 "cells": [
  {
   "cell_type": "markdown",
   "metadata": {},
   "source": [
    "### Created a portfolio using BAB strategy\n",
    "- BAB strategy - The basic bet against beta strategy is to find assets with higher bets and take a short position in them. \n",
    "- The idea is the higher beta assets are overpriced and the lower beta assets are underpriced.\n",
    "- *Note:* BAB strategy is to buy high-beta stocks and sell low-beta stocks"
   ]
  },
  {
   "cell_type": "code",
   "execution_count": null,
   "metadata": {},
   "outputs": [],
   "source": [
    "import pandas as pd\n",
    "import numpy as np\n",
    "import matplotlib.pyplot as plt\n",
    "%matplotlib inline\n",
    "import os\n",
    "import glob\n",
    "import yfinance as yf"
   ]
  },
  {
   "cell_type": "code",
   "execution_count": null,
   "metadata": {},
   "outputs": [],
   "source": [
    "os.getcwd()"
   ]
  },
  {
   "cell_type": "code",
   "execution_count": null,
   "metadata": {},
   "outputs": [],
   "source": [
    "# read nifty50list company\n",
    "nifty_list = pd.read_csv('ind_nifty50list.csv')\n",
    "nifty_list.head()"
   ]
  },
  {
   "cell_type": "code",
   "execution_count": null,
   "metadata": {},
   "outputs": [],
   "source": [
    "#extracting the symbol of the nifty50 list company\n",
    "nifty_symbol=nifty_list['Symbol']\n",
    "nifty_symbol"
   ]
  },
  {
   "cell_type": "code",
   "execution_count": null,
   "metadata": {},
   "outputs": [],
   "source": [
    "#create an empty list to store the symbol of the downloaded and notdownloaded stock\n",
    "downloaded_list = []\n",
    "not_downloaded_list = []"
   ]
  },
  {
   "cell_type": "code",
   "execution_count": null,
   "metadata": {},
   "outputs": [],
   "source": [
    "os.getcwd()"
   ]
  },
  {
   "cell_type": "code",
   "execution_count": null,
   "metadata": {},
   "outputs": [],
   "source": [
    "#change the working directory to stock the csv file in seperate directory\n",
    "os.chdir('D:\\\\stock analysis\\\\portfolio\\\\nifty_stock_price')\n",
    "os.getcwd()"
   ]
  },
  {
   "cell_type": "code",
   "execution_count": null,
   "metadata": {},
   "outputs": [],
   "source": [
    "nifty_df = yf.download('^NSEI','2021-01-27','2021-01-28',interval='1m')"
   ]
  },
  {
   "cell_type": "code",
   "execution_count": null,
   "metadata": {},
   "outputs": [],
   "source": [
    "nifty_df\n",
    "nifty_df['Name'] = \"^NSEI\"\n",
    "nifty_df.to_csv(\"^NSEI\"+'.csv')"
   ]
  },
  {
   "cell_type": "code",
   "execution_count": null,
   "metadata": {},
   "outputs": [],
   "source": [
    "#download 1minute date and store in csv file\n",
    "for symbol in nifty_list['Symbol']:\n",
    "    try:\n",
    "        print(symbol)\n",
    "        yahoo_symbol = symbol+'.NS'\n",
    "        stock_df = yf.download(yahoo_symbol,'2021-01-27','2021-01-28',interval='1m')\n",
    "        stock_df['Name'] = yahoo_symbol\n",
    "        downloaded_list.append(yahoo_symbol)\n",
    "        stock_df.to_csv(yahoo_symbol+'.csv')\n",
    "        print('successfully downloaded...%s\\n'%(yahoo_symbol))\n",
    "    except:\n",
    "        not_downloaded_list = []\n",
    "        print('Problem in downloading the %s\\n' %(symbol))"
   ]
  },
  {
   "cell_type": "markdown",
   "metadata": {},
   "source": [
    "### combine all close price with col_name as cpy name"
   ]
  },
  {
   "cell_type": "code",
   "execution_count": null,
   "metadata": {
    "scrolled": true
   },
   "outputs": [],
   "source": [
    "filename = glob.glob('D:/stock analysis/portfolio/nifty_stock_price/*.csv')\n",
    "filename"
   ]
  },
  {
   "cell_type": "code",
   "execution_count": null,
   "metadata": {},
   "outputs": [],
   "source": [
    "df=((pd.read_csv(file,index_col='Datetime',parse_dates=True)[['Close']])\n",
    "          .rename(columns={'Close':symbol}) \n",
    "          for (file,symbol) in zip(filename,nifty_symbol))"
   ]
  },
  {
   "cell_type": "code",
   "execution_count": null,
   "metadata": {},
   "outputs": [],
   "source": [
    "final_df=pd.concat(df,axis=1)"
   ]
  },
  {
   "cell_type": "code",
   "execution_count": null,
   "metadata": {
    "scrolled": false
   },
   "outputs": [],
   "source": [
    "final_df"
   ]
  },
  {
   "cell_type": "code",
   "execution_count": null,
   "metadata": {},
   "outputs": [],
   "source": [
    "final_df['^NSEI'] = nifty_df['Close']"
   ]
  },
  {
   "cell_type": "code",
   "execution_count": null,
   "metadata": {},
   "outputs": [],
   "source": [
    "final_df"
   ]
  },
  {
   "cell_type": "code",
   "execution_count": null,
   "metadata": {},
   "outputs": [],
   "source": [
    "final_df.reset_index(inplace=True)"
   ]
  },
  {
   "cell_type": "code",
   "execution_count": null,
   "metadata": {},
   "outputs": [],
   "source": [
    "final_df"
   ]
  },
  {
   "cell_type": "code",
   "execution_count": null,
   "metadata": {},
   "outputs": [],
   "source": [
    "final_df['Datetime'] = pd.to_datetime(final_df['Datetime']).dt.strftime('%H:%M')"
   ]
  },
  {
   "cell_type": "code",
   "execution_count": null,
   "metadata": {
    "scrolled": true
   },
   "outputs": [],
   "source": [
    "final_df.set_index('Datetime',inplace=True)"
   ]
  },
  {
   "cell_type": "code",
   "execution_count": null,
   "metadata": {
    "scrolled": false
   },
   "outputs": [],
   "source": [
    "final_df"
   ]
  },
  {
   "cell_type": "markdown",
   "metadata": {},
   "source": [
    "### daily percentage change"
   ]
  },
  {
   "cell_type": "code",
   "execution_count": null,
   "metadata": {
    "scrolled": true
   },
   "outputs": [],
   "source": [
    "daily_pct_change = final_df.pct_change().dropna()"
   ]
  },
  {
   "cell_type": "code",
   "execution_count": null,
   "metadata": {
    "scrolled": true
   },
   "outputs": [],
   "source": [
    "daily_pct_change"
   ]
  },
  {
   "cell_type": "markdown",
   "metadata": {},
   "source": [
    "### calculate the beta"
   ]
  },
  {
   "cell_type": "code",
   "execution_count": null,
   "metadata": {},
   "outputs": [],
   "source": [
    "import statsmodels.api as sm"
   ]
  },
  {
   "cell_type": "code",
   "execution_count": null,
   "metadata": {},
   "outputs": [],
   "source": [
    "def calc_beta(y,x):\n",
    "    model = sm.OLS(y,x)\n",
    "    results = model.fit()\n",
    "    return results.params[0]"
   ]
  },
  {
   "cell_type": "code",
   "execution_count": null,
   "metadata": {},
   "outputs": [],
   "source": [
    "beta = pd.DataFrame(index=[0])\n",
    "beta\n"
   ]
  },
  {
   "cell_type": "code",
   "execution_count": null,
   "metadata": {},
   "outputs": [],
   "source": [
    "for ticker in daily_pct_change.columns:\n",
    "    beta[ticker] = calc_beta(daily_pct_change.loc[:,ticker],daily_pct_change.loc[:,'^NSEI'])\n",
    "beta = beta.T"
   ]
  },
  {
   "cell_type": "code",
   "execution_count": null,
   "metadata": {
    "scrolled": true
   },
   "outputs": [],
   "source": [
    "beta"
   ]
  },
  {
   "cell_type": "code",
   "execution_count": null,
   "metadata": {},
   "outputs": [],
   "source": [
    "beta.plot.bar(figsize=(18,7))\n",
    "plt.show()"
   ]
  },
  {
   "cell_type": "markdown",
   "metadata": {},
   "source": [
    "### Alpha 1:Beta<0.7 "
   ]
  },
  {
   "cell_type": "code",
   "execution_count": null,
   "metadata": {},
   "outputs": [],
   "source": [
    "beta.plot.bar(figsize=(18,7),color=np.where(beta<1,'g','r').T)\n",
    "plt.axhline(1, linestyle='-.',color='blue')\n",
    "plt.show()"
   ]
  },
  {
   "cell_type": "code",
   "execution_count": null,
   "metadata": {},
   "outputs": [],
   "source": [
    "low_beta = beta[beta.values<1].index\n",
    "low_beta"
   ]
  },
  {
   "cell_type": "code",
   "execution_count": null,
   "metadata": {},
   "outputs": [],
   "source": [
    "def plot_performance(stock_list,strategy_name):\n",
    "    stock_returns = daily_pct_change.loc[:,stock_list]\n",
    "    (stock_returns+1).cumprod().plot(figsize=(10,7),legend=\"left\")\n",
    "    plt.title(strategy_name)\n",
    "    plt.show()\n",
    "    \n",
    "    portfolio = stock_returns.mean(axis=1)\n",
    "    (portfolio+1).cumprod().plot(figsize=(10,7),label='BAB + ROE')\n",
    "    plt.title(strategy_name + ' portfolio performance')\n",
    "    \n",
    "    nifty = daily_pct_change.loc[:,'^NSEI']\n",
    "    (nifty+1).cumprod().plot(figsize=(10,7),label='Nifty')\n",
    "    plt.legend()\n",
    "    plt.show"
   ]
  },
  {
   "cell_type": "code",
   "execution_count": null,
   "metadata": {},
   "outputs": [],
   "source": [
    "plot_performance(low_beta,'Low Beta')"
   ]
  },
  {
   "cell_type": "code",
   "execution_count": null,
   "metadata": {},
   "outputs": [],
   "source": [
    "high_beta = beta[beta.values >= 1].index\n",
    "high_beta"
   ]
  },
  {
   "cell_type": "code",
   "execution_count": null,
   "metadata": {},
   "outputs": [],
   "source": [
    "plot_performance(high_beta,'High Beta')"
   ]
  },
  {
   "cell_type": "code",
   "execution_count": null,
   "metadata": {},
   "outputs": [],
   "source": []
  }
 ],
 "metadata": {
  "kernelspec": {
   "display_name": "Python 3 (ipykernel)",
   "language": "python",
   "name": "python3"
  },
  "language_info": {
   "codemirror_mode": {
    "name": "ipython",
    "version": 3
   },
   "file_extension": ".py",
   "mimetype": "text/x-python",
   "name": "python",
   "nbconvert_exporter": "python",
   "pygments_lexer": "ipython3",
   "version": "3.10.8"
  }
 },
 "nbformat": 4,
 "nbformat_minor": 2
}
