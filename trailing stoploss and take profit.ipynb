{
 "cells": [
  {
   "cell_type": "code",
   "execution_count": 11,
   "metadata": {},
   "outputs": [],
   "source": [
    "import pandas as pd\n",
    "import time\n",
    "import datetime\n",
    "import numpy as np\n",
    "import pandas_ta as ta"
   ]
  },
  {
   "cell_type": "code",
   "execution_count": 12,
   "metadata": {},
   "outputs": [],
   "source": [
    "pd.set_option('display.max_rows',None)\n",
    "pd.set_option('display.max_columns',None)"
   ]
  },
  {
   "cell_type": "code",
   "execution_count": 13,
   "metadata": {},
   "outputs": [],
   "source": [
    "def read_data(path,interval):\n",
    "    raw_data = pd.read_csv(path,index_col=0,parse_dates=True)\n",
    "    agg_dict = {'open':'Open','high':'High','low':'Low','close':'Close'}\n",
    "    df = raw_data['ltp'].resample(interval).ohlc().dropna().rename(columns=agg_dict)\n",
    "    symbol = pd.unique(raw_data['symbol'])[0]\n",
    "    df.insert(0,'symbol',symbol)\n",
    "    return df"
   ]
  },
  {
   "cell_type": "markdown",
   "metadata": {},
   "source": [
    "~~~python\n",
    "target_pt = 10\n",
    "stoploss_pt = 10\n",
    "trail = 5\n",
    "\n",
    "sl_hit = False\n",
    "target_hit = False\n",
    "trade = 1\n",
    "\n",
    "entry = data['Close'][0]\n",
    "SL = data['Close'][0] - stoploss_pt\n",
    "target = entry + target_pt\n",
    "trailing_SL = entry + trail\n",
    "print('Trade : {:<3} | Entry Price: {:<8} | target : {:<8} [{:>2}] | SL : {:<8} [{:>2}] | trail : {:<6}\\n'.format(trade,entry,target,target_pt,SL,stoploss_pt,trail))\n",
    "\n",
    "\n",
    "\n",
    "for i in range(0,len(data)):\n",
    "\n",
    "    if data['Close'][i] <= SL and sl_hit == False and target_hit == False: \n",
    "        print(\"{:<3} | close : {:<8} | entry : {:<8} | SL HIT : {:<8}\\n\".format(i,data['Close'][i],entry,SL))\n",
    "        entry = 0\n",
    "        stoploss = 0\n",
    "        trailing_SL = 0\n",
    "        target = 0\n",
    "        SL = 0\n",
    "        sl_hit = True\n",
    "        continue\n",
    "        \n",
    "    if data['Close'][i] >= target and sl_hit == False and target_hit == False: \n",
    "        print(\"{:<3} | close : {:<8} | entry : {:<8} | target HIT : {:<8}\\n\".format(i,data['Close'][i],entry,SL))\n",
    "        entry = 0\n",
    "        stoploss = 0\n",
    "        trailing_SL = 0\n",
    "        target = 0\n",
    "        SL = 0\n",
    "        target_hit = True\n",
    "        continue\n",
    "        \n",
    "    if sl_hit == False and target_hit == False:\n",
    "    \n",
    "       \n",
    "        \n",
    "        if data['Close'][i] > trailing_SL:\n",
    "            updated_sl = trailing_SL\n",
    "            SL = updated_sl\n",
    "            trailing_SL = trailing_SL+ trail\n",
    "            print('{:<3} | close : {:<8} | entry : {:<8} | new SL : {:<8} | TSL : {:<8} | Target : {:<8}'.format(i,data['Close'][i],entry,updated_sl,trailing_SL,target))\n",
    "        else:\n",
    "            print('{:<3} | close : {:<8} | entry : {:<8} | SL     : {:<8} | TSL : {:<8} | Target : {:<8}'.format(i,data['Close'][i],entry,SL,trailing_SL,target))\n",
    "        \n",
    "    \n",
    "    if sl_hit == True or target_hit == True:\n",
    "        target_pt = 10\n",
    "        stoploss_pt = 10\n",
    "        trail = 5\n",
    "    \n",
    "        entry = data['Close'][i]\n",
    "        SL = data['Close'][i] - stoploss_pt\n",
    "        target = entry + target_pt\n",
    "        \n",
    "        trailing_SL = entry + trail\n",
    "        trade +=1\n",
    "        print('Trade : {:<3} | entry Price: {:<8} | target : {:<8} [{:>2}] | SL : {:<8} [{:>2}] | trail : {:<6}\\n'.format(trade,entry,target,target_pt,SL,stoploss_pt,trail))\n",
    "        sl_hit = False\n",
    "        target_hit = False\n",
    "~~~"
   ]
  },
  {
   "cell_type": "code",
   "execution_count": 14,
   "metadata": {},
   "outputs": [],
   "source": [
    "def macd(data,fast=12,slow=26,signal=9):\n",
    "    data = ta.macd(data['Close'],fast=fast,slow=slow,signal=signal)\n",
    "    data.rename(columns={data.columns[0]:'macd',data.columns[1]:'histogram',data.columns[2]:'macd_signal'},inplace=True)\n",
    "    data = data[['macd','macd_signal']]\n",
    "    return data\n",
    "\n",
    "def supertrend(data,length=10,multiplier=1):\n",
    "    data = ta.supertrend(high=data['High'],low=data['Low'],close=data['Close'],length=length,multiplier=multiplier)\n",
    "    data.rename(columns={data.columns[0]:'supertrend'},inplace=True)\n",
    "    data = data.loc[:,[data.columns[0]]]\n",
    "    return data\n",
    "\n",
    "def combine_macd_st(price_data,macd_data,supertrend_data):\n",
    "    data = pd.concat([price_data,macd_data,supertrend_data],axis=1)\n",
    "    return data\n",
    "\n",
    "#combine ST and macd\n",
    "def strategy_technical_indicator(data,fast=12,slow=26,signal=9,length=10,multiplier=1):\n",
    "    df_macd = macd(data=data,fast=fast,slow=slow,signal=signal)\n",
    "    df_supertrend = supertrend(data=data,length=length,multiplier=multiplier)\n",
    "    final_df = combine_macd_st(data[['symbol','Close']],df_macd,df_supertrend)\n",
    "    final_df = final_df.round(2)\n",
    "    return final_df"
   ]
  },
  {
   "cell_type": "code",
   "execution_count": 21,
   "metadata": {},
   "outputs": [],
   "source": [
    "def st_crossover(data,stoploss_pt,target_pt,trailing_stoploss_pt):\n",
    "    \n",
    "    data['position'] = 0\n",
    "    data['signal'] = 0\n",
    "    data['trade_price'] = 0\n",
    "    data['trade_return'] = 0\n",
    "\n",
    "    \n",
    "    for i in range(0,len(data)):\n",
    "        if data.index[i].time() <= datetime.time(15,0) and data.index[i].time() >= datetime.time(9,30):\n",
    "            ##### long position\n",
    "            if data['position'][i-1] == 1:\n",
    "                data['position'].iloc[i] = data['position'].iloc[i-1]\n",
    "                data['signal'].iloc[i] = \"Long carry\"\n",
    "                \n",
    "                if data['Close'][i] < data['supertrend'][i]: #supertrend crossover exit\n",
    "                    PL = round(data['Close'][i] - entry_price,2)\n",
    "                    #print('{:<8} | Exit  Price: {:<8} | entry: {:<8} | Target: {:<8} | signal hit: {:<8}\\n'.format(str(data.index.time[i]),data['Close'][i],entry_price,target,PL))\n",
    "\n",
    "                    data['position'].iloc[i] = 0\n",
    "                    data['trade_price'].iloc[i] = data['Close'][i]\n",
    "                    data['signal'].iloc[i] = \"signal Hit\"\n",
    "                    data['trade_return'].iloc[i] = PL\n",
    "\n",
    "                    entry_price = 0\n",
    "                    stoploss = 0\n",
    "                    trailing_stoploss = 0\n",
    "                    target = 0\n",
    "                    continue\n",
    "\n",
    "                if data['Close'][i] >= target: #target hit exit\n",
    "                    PL = round(data['Close'][i] - entry_price,2)\n",
    "                    #print('{:<8} | Exit  Price: {:<8} | entry: {:<8} | Target: {:<8} | target hit: {:<8}\\n'.format(str(data.index.time[i]),data['Close'][i],entry_price,target,PL))\n",
    "\n",
    "                    data['position'].iloc[i] = 0\n",
    "                    data['trade_price'].iloc[i] = data['Close'][i]\n",
    "                    data['signal'].iloc[i] = \"target Hit\"\n",
    "                    data['trade_return'].iloc[i] = PL\n",
    "\n",
    "                    entry_price = 0\n",
    "                    stoploss = 0\n",
    "                    trailing_stoploss = 0\n",
    "                    target = 0\n",
    "                    continue\n",
    "\n",
    "                if data['Close'][i] <= stoploss: #stoploss hit exit\n",
    "                    PL = round(data['Close'][i] - entry_price,2)\n",
    "                    #print('{:<8} | Long Exit  Price: {:<8} | entry: {:<8} | Target: {:<8} | SL hit: {:<8}\\n'.format(str(data.index.time[i]),data['Close'][i],entry_price,target,PL))\n",
    "\n",
    "                    data['position'].iloc[i] = 0\n",
    "                    data['trade_price'].iloc[i] = data['Close'][i]\n",
    "                    data['signal'].iloc[i] = \"SL Hit\"\n",
    "                    data['trade_return'].iloc[i] = PL\n",
    "\n",
    "                    entry_price = 0\n",
    "                    stoploss = 0\n",
    "                    trailing_stoploss = 0\n",
    "                    target = 0\n",
    "                    continue\n",
    "\n",
    "                if data['Close'][i] > trailing_stoploss: #updating the new stoploss\n",
    "                    updated_stoploss = trailing_stoploss\n",
    "                    stoploss = updated_stoploss\n",
    "                    trailing_stoploss = trailing_stoploss + trailing_stoploss_pt\n",
    "                    #print('{:<8} | carry price: {:<8} | entry: {:<8} | Target: {:<8} | new SL: {:<8} | TSL: {:<8}'.format(str(data.index.time[i]),data['Close'][i],entry_price,target,updated_stoploss,trailing_stoploss))\n",
    "\n",
    "                #if data['Close'][i] < trailing_stoploss: # carry forward the sl target and Trailing stoploss\n",
    "                    #print('{:<8} | carry price: {:<8} | entry: {:<8} | Target: {:<8} | SL    : {:<8} | TSL: {:<8}'.format(str(data.index.time[i]),data['Close'][i],entry_price,target,stoploss,trailing_stoploss))\n",
    "\n",
    "            if data['Close'][i] > data['supertrend'][i] and data['position'][i] == 0: # entrying the new long position\n",
    "                data['position'].iloc[i] = 1\n",
    "                data['trade_price'].iloc[i] = data['Close'][i]\n",
    "                data['signal'].iloc[i] = \"Entry long\"\n",
    "\n",
    "                ## long entry price\n",
    "                entry_price = data['Close'][i]\n",
    "                stoploss = data['Close'][i] - stoploss_pt\n",
    "                target = entry_price + target_pt \n",
    "                trailing_stoploss = entry_price + trailing_stoploss_pt\n",
    "                #print('{:<8} | Long Entry Price: {:<8} | Target: {:<8} | SL: {:<8} | TSL: {:<8}'.format(str(data.index.time[i]),entry_price,target,stoploss,trailing_stoploss))\n",
    "\n",
    "    #############################################################################################################        \n",
    "            ##### short position\n",
    "            if data['position'][i-1] == -1:\n",
    "                data['position'].iloc[i] = data['position'].iloc[i-1]\n",
    "                data['signal'].iloc[i] = \"short carry\"\n",
    "\n",
    "                if data['Close'][i] > data['supertrend'][i]: #signal hit\n",
    "                    short_PL = round(short_entry_price-data['Close'][i],2)\n",
    "                    #print('{:<8} | short Exit Price: {:<8} | entry: {:<8} | Target: {:<8} | signal hit: {:<8}\\n'.format(str(data.index.time[i]),data['Close'][i],short_entry_price,short_target,short_PL))\n",
    "\n",
    "                    data['position'].iloc[i] = 0\n",
    "                    data['trade_price'].iloc[i] = data['Close'][i]\n",
    "                    data['signal'].iloc[i] = \"short signal Hit\"\n",
    "                    data['trade_return'].iloc[i] = short_PL\n",
    "\n",
    "                    short_entry_price = 0\n",
    "                    short_stoploss = 0\n",
    "                    short_trailing_stoploss = 0\n",
    "                    short_target = 0\n",
    "                    continue\n",
    "\n",
    "                if data['Close'][i] <= short_target: #target hit\n",
    "                    short_PL = round(short_entry_price - data['Close'][i],2)\n",
    "                    #print('{:<8} | short Exit Price: {:<8} | entry: {:<8} | Target: {:<8} | target hit: {:<8}\\n'.format(str(data.index.time[i]),data['Close'][i],short_entry_price,short_target,short_PL))\n",
    "\n",
    "                    data['position'].iloc[i] = 0\n",
    "                    data['trade_price'].iloc[i] = data['Close'][i]\n",
    "                    data['signal'].iloc[i] = \"short target Hit\"\n",
    "                    data['trade_return'].iloc[i] = short_PL\n",
    "\n",
    "                    short_entry_price = 0\n",
    "                    short_stoploss = 0\n",
    "                    short_trailing_stoploss = 0\n",
    "                    short_target = 0\n",
    "                    continue\n",
    "\n",
    "                if data['Close'][i] >= short_stoploss: #stoploss hit exit\n",
    "                    short_PL = round(short_entry_price - data['Close'][i],2)\n",
    "                    #print('{:<8} | short Exit Price: {:<8} | entry: {:<8} | Target: {:<8} | SL hit: {:<8}\\n'.format(str(data.index.time[i]),data['Close'][i],short_entry_price,short_target,short_PL))\n",
    "\n",
    "                    data['position'].iloc[i] = 0\n",
    "                    data['trade_price'].iloc[i] = data['Close'][i]\n",
    "                    data['signal'].iloc[i] = \"short SL hit\"\n",
    "                    data['trade_return'].iloc[i] = short_PL\n",
    "\n",
    "                    short_entry_price = 0\n",
    "                    short_stoploss = 0\n",
    "                    short_trailing_stoploss = 0\n",
    "                    short_target = 0\n",
    "                    continue\n",
    "\n",
    "                if data['Close'][i] < short_trailing_stoploss: #updating the new stoploss\n",
    "                    updated_short_stoploss = short_trailing_stoploss\n",
    "                    short_stoploss = updated_short_stoploss\n",
    "                    short_trailing_stoploss = short_trailing_stoploss - trailing_stoploss_pt\n",
    "                    #print('{:<8} | carry price: {:<8} | entry: {:<8} | Target: {:<8} | new SL: {:<8} | TSL: {:<8}'.format(str(data.index.time[i]),data['Close'][i],short_entry_price,short_target,updated_short_stoploss,short_trailing_stoploss))\n",
    "\n",
    "                #if data['Close'][i] > short_trailing_stoploss: # carry forward the sl target and trailing stoploss\n",
    "                    #print('{:<8} | carry price: {:<8} | entry: {:<8} | Target: {:<8} | SL    : {:<8} | TSL: {:<8}'.format(str(data.index.time[i]),data['Close'][i],short_entry_price,short_target,short_stoploss,short_trailing_stoploss))\n",
    "\n",
    "\n",
    "            if data['Close'][i] < data['supertrend'][i] and data['position'][i] == 0:\n",
    "                data['position'].iloc[i] = -1\n",
    "                data['trade_price'].iloc[i] = data['Close'][i]\n",
    "                data['signal'].iloc[i] = \"Entry short\"\n",
    "\n",
    "                ## short entry price\n",
    "                short_entry_price = data['Close'][i]\n",
    "                short_stoploss = data['Close'][i] + stoploss_pt\n",
    "                short_target = short_entry_price - target_pt\n",
    "                short_trailing_stoploss = short_entry_price - trailing_stoploss_pt\n",
    "                #print('{:<8} | short Entry Price: {:<8} | Target: {:<8} | SL: {:<8} | TSL: {:<8}'.format(str(data.index.time[i]),short_entry_price,short_target,short_stoploss,short_trailing_stoploss))\n",
    "        \n",
    "    \n",
    "    return data"
   ]
  },
  {
   "cell_type": "code",
   "execution_count": 16,
   "metadata": {},
   "outputs": [
    {
     "data": {
      "text/html": [
       "<div>\n",
       "<style scoped>\n",
       "    .dataframe tbody tr th:only-of-type {\n",
       "        vertical-align: middle;\n",
       "    }\n",
       "\n",
       "    .dataframe tbody tr th {\n",
       "        vertical-align: top;\n",
       "    }\n",
       "\n",
       "    .dataframe thead th {\n",
       "        text-align: right;\n",
       "    }\n",
       "</style>\n",
       "<table border=\"1\" class=\"dataframe\">\n",
       "  <thead>\n",
       "    <tr style=\"text-align: right;\">\n",
       "      <th></th>\n",
       "    </tr>\n",
       "  </thead>\n",
       "  <tbody>\n",
       "  </tbody>\n",
       "</table>\n",
       "</div>"
      ],
      "text/plain": [
       "Empty DataFrame\n",
       "Columns: []\n",
       "Index: []"
      ]
     },
     "execution_count": 16,
     "metadata": {},
     "output_type": "execute_result"
    }
   ],
   "source": [
    "#daywise dataframe\n",
    "result_columns = ['date','PL']\n",
    "result_dataframe = pd.DataFrame()\n",
    "result_dataframe"
   ]
  },
  {
   "cell_type": "code",
   "execution_count": 17,
   "metadata": {},
   "outputs": [],
   "source": [
    "nifty_path = \"D:\\\\stock_analysis_Spyder\\\\28-06-2021 - live_ohlc\\\\Nifty 50.csv\"\n",
    "#nifty_path = \"D:\\\\stock_analysis_Spyder\\\\28-06-2021 - live_ohlc\\\\NIFTY JUL 15700.0 CE.csv\""
   ]
  },
  {
   "cell_type": "code",
   "execution_count": 243,
   "metadata": {},
   "outputs": [],
   "source": [
    "#nifty_path = \"D:\\\\stock_analysis_Spyder\\\\NFO\\\\NIFTY 05 AUG21\\\\NIFTY 05 AUG21 15750.0 CE.csv\""
   ]
  },
  {
   "cell_type": "code",
   "execution_count": 26,
   "metadata": {},
   "outputs": [],
   "source": [
    "raw_data = read_data(nifty_path,'5min')"
   ]
  },
  {
   "cell_type": "code",
   "execution_count": 27,
   "metadata": {},
   "outputs": [
    {
     "data": {
      "text/plain": [
       "array([datetime.date(2021, 6, 29), datetime.date(2021, 6, 30),\n",
       "       datetime.date(2021, 7, 5), datetime.date(2021, 7, 6),\n",
       "       datetime.date(2021, 7, 7), datetime.date(2021, 7, 8),\n",
       "       datetime.date(2021, 7, 9), datetime.date(2021, 7, 12),\n",
       "       datetime.date(2021, 7, 13), datetime.date(2021, 7, 14),\n",
       "       datetime.date(2021, 7, 15), datetime.date(2021, 7, 16),\n",
       "       datetime.date(2021, 7, 19), datetime.date(2021, 7, 22),\n",
       "       datetime.date(2021, 7, 23)], dtype=object)"
      ]
     },
     "execution_count": 27,
     "metadata": {},
     "output_type": "execute_result"
    }
   ],
   "source": [
    "dt = np.unique(raw_data.index.date)\n",
    "dt"
   ]
  },
  {
   "cell_type": "code",
   "execution_count": 28,
   "metadata": {},
   "outputs": [
    {
     "name": "stdout",
     "output_type": "stream",
     "text": [
      "0   | 2021-06-29 | PL = 13.6   | From : 12:10:00 | To : 13:55:00\n",
      "1   | 2021-06-30 | PL = -6.9   | From : 12:00:00 | To : 13:10:00\n",
      "2   | 2021-07-05 | PL = -21.95 | From : 12:50:00 | To : 15:45:00\n",
      "3   | 2021-07-06 | PL = 87.3   | From : 09:40:00 | To : 15:25:00\n",
      "4   | 2021-07-07 | PL = -16.85 | From : 12:15:00 | To : 15:45:00\n",
      "5   | 2021-07-08 | PL = 15.95  | From : 09:20:00 | To : 15:30:00\n",
      "6   | 2021-07-09 | PL = -66.65 | From : 09:20:00 | To : 15:20:00\n",
      "7   | 2021-07-12 | PL = -43.95 | From : 09:30:00 | To : 15:35:00\n",
      "8   | 2021-07-13 | PL = -18.85 | From : 09:35:00 | To : 15:35:00\n",
      "9   | 2021-07-14 | PL = 23.85  | From : 09:30:00 | To : 15:30:00\n",
      "10  | 2021-07-15 | PL = 4.75   | From : 09:15:00 | To : 10:00:00\n",
      "11  | 2021-07-16 | PL = -48.75 | From : 09:20:00 | To : 15:30:00\n",
      "12  | 2021-07-19 | PL = 16.35  | From : 09:20:00 | To : 15:35:00\n",
      "13  | 2021-07-22 | PL = 33.45  | From : 09:10:00 | To : 13:35:00\n",
      "14  | 2021-07-23 | PL = -29.4  | From : 13:30:00 | To : 15:30:00\n"
     ]
    }
   ],
   "source": [
    "#2min interval\n",
    "for i,date_time in enumerate(dt):\n",
    "    ind_df = strategy_technical_indicator(raw_data)\n",
    "    df = ind_df[ind_df.index.date == date_time]\n",
    "    row = df.shape[0]\n",
    "    df = df[['Close','supertrend']][1:]\n",
    "    start = str(df.index[0].time())\n",
    "    end = str(df.index[-1].time())\n",
    "    st_data = st_crossover(df,10,20,5)\n",
    "    result = round(st_data['trade_return'].sum(),2)\n",
    "    #print(i,date_time,\" = \",result,\" \",row)\n",
    "    print(\"{:<3} | {:<8} | PL = {:<6} | From : {:<8} | To : {:<8}\".format(i,str(date_time),result,start,end))\n",
    "    result_dataframe['date'] = str(date_time)\n",
    "    result_dataframe['PL'] = result\n",
    "    #result_dataframe = result_dataframe.append(result)"
   ]
  },
  {
   "cell_type": "code",
   "execution_count": 22,
   "metadata": {
    "scrolled": true
   },
   "outputs": [
    {
     "name": "stdout",
     "output_type": "stream",
     "text": [
      "0   | 2021-06-29 | PL = 24.65  | From : 12:10:00 | To : 13:57:00\n",
      "1   | 2021-06-30 | PL = -14.2  | From : 12:00:00 | To : 13:13:00\n",
      "2   | 2021-07-05 | PL = -25.4  | From : 12:48:00 | To : 15:49:00\n",
      "3   | 2021-07-06 | PL = 13.2   | From : 09:40:00 | To : 15:25:00\n",
      "4   | 2021-07-07 | PL = -9.85  | From : 12:11:00 | To : 15:49:00\n",
      "5   | 2021-07-08 | PL = 44.3   | From : 09:17:00 | To : 15:31:00\n",
      "6   | 2021-07-09 | PL = -53.9  | From : 09:18:00 | To : 15:22:00\n",
      "7   | 2021-07-12 | PL = 78.5   | From : 09:28:00 | To : 15:37:00\n",
      "8   | 2021-07-13 | PL = 7.85   | From : 09:33:00 | To : 15:36:00\n",
      "9   | 2021-07-14 | PL = 5.05   | From : 09:28:00 | To : 15:31:00\n",
      "10  | 2021-07-15 | PL = -14.85 | From : 09:13:00 | To : 10:02:00\n",
      "11  | 2021-07-16 | PL = -55.65 | From : 09:17:00 | To : 15:31:00\n",
      "12  | 2021-07-19 | PL = 20.6   | From : 09:18:00 | To : 15:35:00\n",
      "13  | 2021-07-22 | PL = -20.05 | From : 09:06:00 | To : 13:35:00\n",
      "14  | 2021-07-23 | PL = -56.9  | From : 13:28:00 | To : 15:30:00\n"
     ]
    }
   ],
   "source": [
    "#1min interval\n",
    "for i,date_time in enumerate(dt):\n",
    "    ind_df = strategy_technical_indicator(raw_data)\n",
    "    df = ind_df[ind_df.index.date == date_time]\n",
    "    row = df.shape[0]\n",
    "    df = df[['Close','supertrend']][1:]\n",
    "    start = str(df.index[0].time())\n",
    "    end = str(df.index[-1].time())\n",
    "    st_data = st_crossover(df,10,20,5)\n",
    "    result = round(st_data['trade_return'].sum(),2)\n",
    "    #print(i,date_time,\" = \",result,\" \",row)\n",
    "    print(\"{:<3} | {:<8} | PL = {:<6} | From : {:<8} | To : {:<8}\".format(i,str(date_time),result,start,end))\n",
    "    result_dataframe['date'] = str(date_time)\n",
    "    result_dataframe['PL'] = result\n",
    "    #result_dataframe = result_dataframe.append(result)"
   ]
  },
  {
   "cell_type": "code",
   "execution_count": 223,
   "metadata": {},
   "outputs": [
    {
     "data": {
      "text/html": [
       "<div>\n",
       "<style scoped>\n",
       "    .dataframe tbody tr th:only-of-type {\n",
       "        vertical-align: middle;\n",
       "    }\n",
       "\n",
       "    .dataframe tbody tr th {\n",
       "        vertical-align: top;\n",
       "    }\n",
       "\n",
       "    .dataframe thead th {\n",
       "        text-align: right;\n",
       "    }\n",
       "</style>\n",
       "<table border=\"1\" class=\"dataframe\">\n",
       "  <thead>\n",
       "    <tr style=\"text-align: right;\">\n",
       "      <th></th>\n",
       "      <th>PL</th>\n",
       "      <th>date</th>\n",
       "    </tr>\n",
       "  </thead>\n",
       "  <tbody>\n",
       "  </tbody>\n",
       "</table>\n",
       "</div>"
      ],
      "text/plain": [
       "Empty DataFrame\n",
       "Columns: [PL, date]\n",
       "Index: []"
      ]
     },
     "execution_count": 223,
     "metadata": {},
     "output_type": "execute_result"
    }
   ],
   "source": [
    "result_dataframe"
   ]
  },
  {
   "cell_type": "code",
   "execution_count": 237,
   "metadata": {},
   "outputs": [
    {
     "data": {
      "text/plain": [
       "time_stamp\n",
       "2021-07-23 13:44:00    9.40\n",
       "2021-07-23 13:58:00    3.05\n",
       "2021-07-23 14:27:00    0.85\n",
       "2021-07-23 14:41:00    9.50\n",
       "2021-07-23 14:52:00    1.35\n",
       "Name: trade_return, dtype: float64"
      ]
     },
     "execution_count": 237,
     "metadata": {},
     "output_type": "execute_result"
    }
   ],
   "source": [
    "st_data['trade_return'][st_data['trade_return']>0]"
   ]
  },
  {
   "cell_type": "code",
   "execution_count": 238,
   "metadata": {},
   "outputs": [
    {
     "data": {
      "text/plain": [
       "time_stamp\n",
       "2021-07-23 14:00:00    -7.05\n",
       "2021-07-23 14:08:00   -14.90\n",
       "2021-07-23 14:14:00    -5.05\n",
       "2021-07-23 14:17:00    -5.25\n",
       "2021-07-23 14:21:00    -2.60\n",
       "2021-07-23 14:43:00    -9.00\n",
       "2021-07-23 14:45:00    -3.00\n",
       "Name: trade_return, dtype: float64"
      ]
     },
     "execution_count": 238,
     "metadata": {},
     "output_type": "execute_result"
    }
   ],
   "source": [
    "st_data['trade_return'][st_data['trade_return']<0]"
   ]
  },
  {
   "cell_type": "code",
   "execution_count": null,
   "metadata": {},
   "outputs": [],
   "source": []
  }
 ],
 "metadata": {
  "kernelspec": {
   "display_name": "Python 3",
   "language": "python",
   "name": "python3"
  },
  "language_info": {
   "codemirror_mode": {
    "name": "ipython",
    "version": 3
   },
   "file_extension": ".py",
   "mimetype": "text/x-python",
   "name": "python",
   "nbconvert_exporter": "python",
   "pygments_lexer": "ipython3",
   "version": "3.7.3"
  }
 },
 "nbformat": 4,
 "nbformat_minor": 2
}
